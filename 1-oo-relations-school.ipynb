{
 "cells": [
  {
   "cell_type": "markdown",
   "id": "636a302f-e090-4884-9495-002e149b27d9",
   "metadata": {},
   "source": [
    "# Object Relations School"
   ]
  },
  {
   "cell_type": "markdown",
   "id": "5acffef9-3f79-4d9b-bc45-ab0312d4639e",
   "metadata": {},
   "source": [
    "### Introduction"
   ]
  },
  {
   "cell_type": "markdown",
   "id": "23af6d5b-4365-4abd-93c2-ecc5861e067a",
   "metadata": {},
   "source": [
    "In this lesson, we'll practice using our knowledge about object relations to build an application that manages a school."
   ]
  },
  {
   "cell_type": "markdown",
   "id": "41e822f2-27c7-41ff-b24c-05263ecfe110",
   "metadata": {},
   "source": [
    "### Creating our initial classes"
   ]
  },
  {
   "cell_type": "markdown",
   "id": "09bc0dd9-a154-4eec-a98a-1ef560b773a4",
   "metadata": {},
   "source": [
    "First cd into the `project` folder.  "
   ]
  },
  {
   "cell_type": "markdown",
   "id": "f8e935db-1fa4-4890-a81f-8409ffb80dd3",
   "metadata": {},
   "source": [
    "> Then, from the project folder run the following:  `export PYTHONPATH=\"$PWD/code\"`"
   ]
  },
  {
   "cell_type": "markdown",
   "id": "72b1a905-070e-46c6-a9ec-7930f1a5d791",
   "metadata": {},
   "source": [
    "<img src=\"./export-path.png\" width=\"60%\">"
   ]
  },
  {
   "cell_type": "markdown",
   "id": "e31d3fc7-9c97-42eb-b70b-13a58224f8b9",
   "metadata": {},
   "source": [
    "Then from the project folder, run `pytest`.  And to run an individual test file, like `test_school.py`, run `pytest tests/test_school.py`."
   ]
  },
  {
   "cell_type": "markdown",
   "id": "054dcf07-1633-4460-877a-dccefd334b63",
   "metadata": {},
   "source": [
    "* School"
   ]
  },
  {
   "cell_type": "markdown",
   "id": "1cdbec5c-c260-4284-bb2e-4a9e2ea53c29",
   "metadata": {},
   "source": [
    "Let's begin by creating a class for a school.  The school should: \n",
    "* Have attributes of `_address` and `_name` that are defined when initialized.  \n",
    "* There should also be getters of `address` and `name` \n",
    "* Each school should be added to the store, and have an incrementing `_id`, and should have a getter for `id`."
   ]
  },
  {
   "cell_type": "markdown",
   "id": "f30de196-f81e-4017-bf6a-b878159f5116",
   "metadata": {},
   "source": [
    "* Student\n",
    "\n",
    "The student class is quite similar to the teacher one.\n",
    "* The student should have attributes of `_name` and `_hometown` and associated getters.\n",
    "* Each studnet should be added to the store, and have an incrementing `_id`, and should have a getter for `id`.\n"
   ]
  },
  {
   "cell_type": "markdown",
   "id": "14f17b10-b649-40be-92fa-9af6f6269106",
   "metadata": {},
   "source": [
    "### Creating our relations"
   ]
  },
  {
   "cell_type": "markdown",
   "id": "5e5981f9-4f7c-464b-b6c4-dc9a09b25be1",
   "metadata": {},
   "source": [
    "Ok, now let's add our relations.  Notice that our relationship here is: \n",
    "\n",
    "* A student has one school \n",
    "* A school has many students\n",
    "\n",
    "\n",
    "So to begin with, we should: \n",
    "1. Store the `school_id` on the student.  \n",
    "2. Add a `school` on student that returns the related school instance "
   ]
  },
  {
   "cell_type": "markdown",
   "id": "92b7e673-b568-4c00-a9af-407b8d555fda",
   "metadata": {},
   "source": [
    "### More Relations"
   ]
  },
  {
   "cell_type": "markdown",
   "id": "3ea86eeb-ba3a-442d-9212-a04e3202be61",
   "metadata": {},
   "source": [
    "* Teacher \n",
    "\n",
    "We added the code for teacher in the codebase already.  However, it is currently missing the `teacher.school()` method, so add that in there.  Also, add in the `school.teachers()` method."
   ]
  }
 ],
 "metadata": {
  "kernelspec": {
   "display_name": "Python 3 (ipykernel)",
   "language": "python",
   "name": "python3"
  },
  "language_info": {
   "codemirror_mode": {
    "name": "ipython",
    "version": 3
   },
   "file_extension": ".py",
   "mimetype": "text/x-python",
   "name": "python",
   "nbconvert_exporter": "python",
   "pygments_lexer": "ipython3",
   "version": "3.9.7"
  }
 },
 "nbformat": 4,
 "nbformat_minor": 5
}
